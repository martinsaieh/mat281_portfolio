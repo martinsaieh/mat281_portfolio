{
 "cells": [
  {
   "cell_type": "markdown",
   "metadata": {},
   "source": [
    "<img src=\"images/usm.jpg\" width=\"480\" height=\"240\" align=\"left\"/>"
   ]
  },
  {
   "cell_type": "markdown",
   "metadata": {},
   "source": [
    "# MAT281- Buenas prácticas\n",
    "\n",
    "## Objetivos \n",
    "\n",
    "* Aprender buenas prácticas en python.\n"
   ]
  },
  {
   "cell_type": "markdown",
   "metadata": {},
   "source": [
    "## Contenidos\n",
    "\n",
    "* [Estilo de codificación](#c1)\n",
    "* [Zen de python](#c2)"
   ]
  },
  {
   "cell_type": "markdown",
   "metadata": {},
   "source": [
    "<a id='c1'></a>\n",
    "## I.- Estilo de codificación\n",
    "\n",
    "<img src=\"images/pep8.png\" width=\"240\" height=\"240\" align=\"center\"/>"
   ]
  },
  {
   "cell_type": "markdown",
   "metadata": {},
   "source": [
    "Además de una correcta y ordenada estructura general que deben tener los programa, es conveniente mantener ciertas buenas prácticas de codificación y el estilo de codificación recomendado. Estas normas no son obligatorias, como lo es la propia sintaxis del lenguaje, pero conviene [seguir las recomendaciones](https://legacy.python.org/dev/peps/pep-0008/) de los desarrolladores de Python para facilitar la lectura del programa y ayudar a encontrar posibles errores.\n"
   ]
  },
  {
   "cell_type": "markdown",
   "metadata": {},
   "source": [
    "### Variables\n",
    "Cuando sea posible, define variables con nombres que tengan algún sentido o que puedas identificar fácilmente, no importa que sean más largas. Por ejemplo, en un programa podríamos escribir:"
   ]
  },
  {
   "cell_type": "code",
   "execution_count": 1,
   "metadata": {},
   "outputs": [
    {
     "name": "stdout",
     "output_type": "stream",
     "text": [
      "El volumen es 35.0\n"
     ]
    }
   ],
   "source": [
    "a = 10.  # altura\n",
    "b = 3.5  # base\n",
    "print(\"El volumen es %.1f\" % (a*b))"
   ]
  },
  {
   "cell_type": "markdown",
   "metadata": {},
   "source": [
    "pero, ¿qué significan `a` y  `b`? lo sabemos por el comentario (bien hecho), pero si más adelante nos encontramos con esas variables, tendremos que recordar cual es cual. Es mejor usar nombres con significado:"
   ]
  },
  {
   "cell_type": "code",
   "execution_count": 2,
   "metadata": {},
   "outputs": [
    {
     "name": "stdout",
     "output_type": "stream",
     "text": [
      "El volumen es 35.0\n"
     ]
    }
   ],
   "source": [
    "altura = 10.\n",
    "base = 3.5\n",
    "print(\"El volumen es %.1f\" % (altura*base))"
   ]
  },
  {
   "cell_type": "markdown",
   "metadata": {},
   "source": [
    "De hecho podemos usar el nombre para dar más información sobre la variable:\n",
    "\n"
   ]
  },
  {
   "cell_type": "code",
   "execution_count": 3,
   "metadata": {},
   "outputs": [],
   "source": [
    "velocidad_metros_segundo = 12.5\n",
    "angulo_radianes = 1.3"
   ]
  },
  {
   "cell_type": "markdown",
   "metadata": {},
   "source": [
    "### Lineas de códigos"
   ]
  },
  {
   "cell_type": "markdown",
   "metadata": {},
   "source": [
    "Las líneas de codigo no deben ser muy largas, como mucho 72 caracteres. Si se tiene una línea larga, se puede cortar con una barra invertida (`\\`) y continuar en la siguiente línea:"
   ]
  },
  {
   "cell_type": "code",
   "execution_count": 4,
   "metadata": {},
   "outputs": [
    {
     "name": "stdout",
     "output_type": "stream",
     "text": [
      "Esta es una frase muy larga, se puede cortar con una        y seguir en la línea inferior.\n"
     ]
    }
   ],
   "source": [
    "print(\"Esta es una frase muy larga, se puede cortar con una \\\n",
    "       y seguir en la línea inferior.\")"
   ]
  },
  {
   "cell_type": "markdown",
   "metadata": {},
   "source": [
    "### Comentarios\n",
    "\n",
    "Los comentarios son muy importantes al escribir un programa. Describen lo que está sucediendo dentro de un programa, para que una persona que mira el código fuente no tenga dificultades para descifrarlo.\n"
   ]
  },
  {
   "cell_type": "code",
   "execution_count": 5,
   "metadata": {},
   "outputs": [
    {
     "name": "stdout",
     "output_type": "stream",
     "text": [
      "Hola\n"
     ]
    }
   ],
   "source": [
    "# esto es un comentario\n",
    "print('Hola')"
   ]
  },
  {
   "cell_type": "markdown",
   "metadata": {},
   "source": [
    "También podemos tener comentarios multilíneas:"
   ]
  },
  {
   "cell_type": "code",
   "execution_count": 6,
   "metadata": {},
   "outputs": [],
   "source": [
    "# Este es un comentario largo\n",
    "# y se extiende\n",
    "# a varias líneas"
   ]
  },
  {
   "cell_type": "markdown",
   "metadata": {},
   "source": [
    "### Identación"
   ]
  },
  {
   "cell_type": "markdown",
   "metadata": {},
   "source": [
    "a)  Dentro de paréntesis, corchetes o llaves, no dejar espacios inmediatamente dentro de ellos:"
   ]
  },
  {
   "cell_type": "code",
   "execution_count": 1,
   "metadata": {},
   "outputs": [],
   "source": [
    "# no:  \n",
    "lista_01 = [1, 2, 3,4, 5, 6,7, 8, 9,]"
   ]
  },
  {
   "cell_type": "code",
   "execution_count": 2,
   "metadata": {},
   "outputs": [],
   "source": [
    "# si \n",
    "lista_01 = [\n",
    "    1, 2, 3,\n",
    "    4, 5, 6,\n",
    "    7, 8, 9, \n",
    "]"
   ]
  },
  {
   "cell_type": "markdown",
   "metadata": {},
   "source": [
    "b) Aunque en Python se pueden hacer varias declaraciones en una línea, se recomienda hacer sólo una en cada línea:\n",
    "\n"
   ]
  },
  {
   "cell_type": "code",
   "execution_count": 9,
   "metadata": {},
   "outputs": [],
   "source": [
    "# no\n",
    "a = 10; b = 20"
   ]
  },
  {
   "cell_type": "code",
   "execution_count": 10,
   "metadata": {},
   "outputs": [],
   "source": [
    "# si\n",
    "a = 10\n",
    "b = 20    "
   ]
  },
  {
   "cell_type": "markdown",
   "metadata": {},
   "source": [
    "c) Cuando se trabaja con lista, conjuntos y/o tuplas se recomienda poner en cada línea sus argumentos.\n"
   ]
  },
  {
   "cell_type": "code",
   "execution_count": 11,
   "metadata": {},
   "outputs": [],
   "source": [
    "# no\n",
    "lista = [(1, 'hola'),(2, 'mundo'),]"
   ]
  },
  {
   "cell_type": "code",
   "execution_count": 12,
   "metadata": {},
   "outputs": [],
   "source": [
    "# si\n",
    "lista = [\n",
    "    (1, 'hola'),\n",
    "    (2, 'mundo'),\n",
    "]"
   ]
  },
  {
   "cell_type": "markdown",
   "metadata": {},
   "source": [
    "d) Lo anterior se puede extender para funciones con muchos argumentos"
   ]
  },
  {
   "cell_type": "code",
   "execution_count": 13,
   "metadata": {},
   "outputs": [],
   "source": [
    "# no\n",
    "def funcion_01(x1,x2,x3,x4):\n",
    "    print(x1,x2,x3,x4)\n",
    "    \n",
    "def funcion_02(\n",
    "    x1,x2,x3,x4):\n",
    "    print(x1,x2,x3,x4)"
   ]
  },
  {
   "cell_type": "code",
   "execution_count": 14,
   "metadata": {},
   "outputs": [],
   "source": [
    "# si\n",
    "def funcion_01(x1,x2,\n",
    "               x3,x4):\n",
    "    \n",
    "    print(x1,x2,x3,x4)\n",
    "    \n",
    "def funcion_02(\n",
    "        x1,x2,\n",
    "        x3,x4):\n",
    "    \n",
    "    print(x1,x2,x3,x4)"
   ]
  },
  {
   "cell_type": "markdown",
   "metadata": {},
   "source": [
    "### Manipulación de listas\n",
    "\n",
    "Aunque combinar iterables con elementos de control de flujo para manipular listas es muy sencillo con Python, hay métodos específicos más eficientes para hacer lo mismo. Pensemos el fitrado de datos de una lista:"
   ]
  },
  {
   "cell_type": "code",
   "execution_count": 1,
   "metadata": {},
   "outputs": [],
   "source": [
    "# Seleccionar los números positivos\n",
    "numeros = [-3, 2, 1, -8, -2, 7]\n",
    "positivos = []\n",
    "for i in numeros:\n",
    "    if i > 4:\n",
    "        positivos.append(i)\n"
   ]
  },
  {
   "cell_type": "markdown",
   "metadata": {},
   "source": [
    "Aunque técnicamente es correcto, es más eficiente hacer algo como esto usando las posibilidades de Python:\n",
    "\n"
   ]
  },
  {
   "cell_type": "code",
   "execution_count": 2,
   "metadata": {},
   "outputs": [],
   "source": [
    "numeros = [-3, 2, 1, -8, -2, 7]\n",
    "positivos = [i for i in numeros if i > 4]\n",
    "\n",
    "# o también:\n",
    "positivos = filter(lambda x: x > 4, numeros)"
   ]
  },
  {
   "cell_type": "markdown",
   "metadata": {},
   "source": [
    "Igualmente, aunque se puede hacer esto:\n",
    "\n"
   ]
  },
  {
   "cell_type": "code",
   "execution_count": 17,
   "metadata": {},
   "outputs": [],
   "source": [
    "numeros = [-3, 2, 1, -8, -2, 7]\n",
    "for i in range(len(numeros)):\n",
    "    numeros[i] += 3"
   ]
  },
  {
   "cell_type": "markdown",
   "metadata": {},
   "source": [
    "Es mejor hacer esto otro:"
   ]
  },
  {
   "cell_type": "code",
   "execution_count": 18,
   "metadata": {},
   "outputs": [],
   "source": [
    "numeros = [-3, 2, 1, -8, -2, 7]\n",
    "numeros = [i + 3 for i in numeros]"
   ]
  },
  {
   "cell_type": "markdown",
   "metadata": {},
   "source": [
    "o también:"
   ]
  },
  {
   "cell_type": "code",
   "execution_count": 19,
   "metadata": {},
   "outputs": [],
   "source": [
    "numeros = map(lambda i: i + 3, numeros)"
   ]
  },
  {
   "cell_type": "markdown",
   "metadata": {},
   "source": [
    "### Parámetros de funciones\n",
    "\n",
    "Con Python 3 se puede especificar el tipo de parámetro y el tipo de retorno de una función. Esto es útil porque:\n",
    "* Se definen explicitamente el formato del input y del output\n",
    "* Si se ingresa un formato que no es el especificado, nos devolverá un `TypeError`"
   ]
  },
  {
   "cell_type": "code",
   "execution_count": 13,
   "metadata": {},
   "outputs": [],
   "source": [
    "def pick(\n",
    "    l: list,\n",
    "    index: int) -> int:\n",
    "    return l[index]"
   ]
  },
  {
   "cell_type": "code",
   "execution_count": 14,
   "metadata": {},
   "outputs": [
    {
     "data": {
      "text/plain": [
       "int"
      ]
     },
     "execution_count": 14,
     "metadata": {},
     "output_type": "execute_result"
    }
   ],
   "source": [
    "# ejemplo \n",
    "l = [1,2,3,4,5]\n",
    "index= 1 # int \n",
    "type(pick(l,index))"
   ]
  },
  {
   "cell_type": "code",
   "execution_count": 15,
   "metadata": {},
   "outputs": [
    {
     "ename": "TypeError",
     "evalue": "list indices must be integers or slices, not float",
     "output_type": "error",
     "traceback": [
      "\u001b[1;31m---------------------------------------------------------------------------\u001b[0m",
      "\u001b[1;31mTypeError\u001b[0m                                 Traceback (most recent call last)",
      "\u001b[1;32m<ipython-input-15-a7202f4b0923>\u001b[0m in \u001b[0;36m<module>\u001b[1;34m\u001b[0m\n\u001b[0;32m      2\u001b[0m \u001b[0ml\u001b[0m \u001b[1;33m=\u001b[0m \u001b[1;33m[\u001b[0m\u001b[1;36m1\u001b[0m\u001b[1;33m,\u001b[0m\u001b[1;36m2\u001b[0m\u001b[1;33m,\u001b[0m\u001b[1;36m3\u001b[0m\u001b[1;33m,\u001b[0m\u001b[1;36m4\u001b[0m\u001b[1;33m,\u001b[0m\u001b[1;36m5\u001b[0m\u001b[1;33m]\u001b[0m\u001b[1;33m\u001b[0m\u001b[1;33m\u001b[0m\u001b[0m\n\u001b[0;32m      3\u001b[0m \u001b[0mindex\u001b[0m\u001b[1;33m=\u001b[0m \u001b[1;36m1.0\u001b[0m \u001b[1;31m# float\u001b[0m\u001b[1;33m\u001b[0m\u001b[1;33m\u001b[0m\u001b[0m\n\u001b[1;32m----> 4\u001b[1;33m \u001b[0mpick\u001b[0m\u001b[1;33m(\u001b[0m\u001b[0ml\u001b[0m\u001b[1;33m,\u001b[0m\u001b[0mindex\u001b[0m\u001b[1;33m)\u001b[0m\u001b[1;33m\u001b[0m\u001b[1;33m\u001b[0m\u001b[0m\n\u001b[0m",
      "\u001b[1;32m<ipython-input-13-61a96be11cf3>\u001b[0m in \u001b[0;36mpick\u001b[1;34m(l, index)\u001b[0m\n\u001b[0;32m      2\u001b[0m     \u001b[0ml\u001b[0m\u001b[1;33m:\u001b[0m \u001b[0mlist\u001b[0m\u001b[1;33m,\u001b[0m\u001b[1;33m\u001b[0m\u001b[1;33m\u001b[0m\u001b[0m\n\u001b[0;32m      3\u001b[0m     index: int) -> int:\n\u001b[1;32m----> 4\u001b[1;33m     \u001b[1;32mreturn\u001b[0m \u001b[0ml\u001b[0m\u001b[1;33m[\u001b[0m\u001b[0mindex\u001b[0m\u001b[1;33m]\u001b[0m\u001b[1;33m\u001b[0m\u001b[1;33m\u001b[0m\u001b[0m\n\u001b[0m",
      "\u001b[1;31mTypeError\u001b[0m: list indices must be integers or slices, not float"
     ]
    }
   ],
   "source": [
    "# error tipo de argumento\n",
    "l = [1,2,3,4,5]\n",
    "index= 1.0 # float\n",
    "pick(l,index)"
   ]
  },
  {
   "cell_type": "markdown",
   "metadata": {},
   "source": [
    "### Documentación de código\n",
    "\n",
    "Casi tan importante como la escritura de código, es su correcta documentación, una parte fundamental de cualquier programa que a menudo se infravalora o simplemente se ignora. Aparte de los comentarios entre el código explicando cómo funciona, el elemento básico de documentación de Python es el Docstring o cadena de documentación, que ya hemos visto. Simplemente es una cadena de texto con triple comillas que se coloca justo después de la definición de función o clase que sirve de documentación a ese elemento."
   ]
  },
  {
   "cell_type": "code",
   "execution_count": 23,
   "metadata": {},
   "outputs": [],
   "source": [
    "def potencia(x, y):\n",
    "    \"\"\"\n",
    "    Calcula la potencia arbitraria de un numero\n",
    "    \"\"\"\n",
    "    return x**y"
   ]
  },
  {
   "cell_type": "code",
   "execution_count": 24,
   "metadata": {},
   "outputs": [
    {
     "data": {
      "text/plain": [
       "'\\n    Calcula la potencia arbitraria de un numero\\n    '"
      ]
     },
     "execution_count": 24,
     "metadata": {},
     "output_type": "execute_result"
    }
   ],
   "source": [
    "# Acceso a la documentación\n",
    "potencia.__doc__"
   ]
  },
  {
   "cell_type": "code",
   "execution_count": 25,
   "metadata": {},
   "outputs": [
    {
     "name": "stdout",
     "output_type": "stream",
     "text": [
      "Help on function potencia in module __main__:\n",
      "\n",
      "potencia(x, y)\n",
      "    Calcula la potencia arbitraria de un numero\n",
      "\n"
     ]
    }
   ],
   "source": [
    "# Acceso a la documentación\n",
    "help(potencia)"
   ]
  },
  {
   "cell_type": "markdown",
   "metadata": {},
   "source": [
    "Lo correcto es detallar lo mejor posible en el *Docstring* qué hace y cómo se usa la función o clase y los parámetros que necesita. Se recomienda usar el estilo de documentación del software de documentación [sphinx](https://www.sphinx-doc.org/en/master/), que emplea [reStructuredText](https://docutils.sourceforge.io/rst.html) como lenguaje de marcado.\n",
    "\n",
    "Veamos un ejemplo de una función bien documentada:"
   ]
  },
  {
   "cell_type": "code",
   "execution_count": 26,
   "metadata": {},
   "outputs": [],
   "source": [
    "def potencia(x, y):\n",
    "    \"\"\"\n",
    "    power(x1, x2[, out])\n",
    "\n",
    "    First array elements raised to powers from second array, element-wise.\n",
    "\n",
    "    Raise each base in `x1` to the positionally-corresponding power in\n",
    "    `x2`.  `x1` and `x2` must be broadcastable to the same shape. Note that an\n",
    "    integer type raised to a negative integer power will raise a ValueError.\n",
    "\n",
    "    Parameters\n",
    "    ----------\n",
    "    x1 : array_like\n",
    "        The bases.\n",
    "    x2 : array_like\n",
    "        The exponents.\n",
    "\n",
    "    Returns\n",
    "    -------\n",
    "    y : ndarray\n",
    "        The bases in `x1` raised to the exponents in `x2`.\n",
    "\n",
    "    See Also\n",
    "    --------\n",
    "    float_power : power function that promotes integers to float\n",
    "    \n",
    "    \n",
    "    Examples\n",
    "    --------\n",
    "    Cube each element in a list.\n",
    "\n",
    "    >>> x1 = range(6)\n",
    "    >>> x1\n",
    "    [0, 1, 2, 3, 4, 5]\n",
    "    >>> np.power(x1, 3)\n",
    "    array([  0,   1,   8,  27,  64, 125])\n",
    "\n",
    "    Raise the bases to different exponents.\n",
    "\n",
    "    >>> x2 = [1.0, 2.0, 3.0, 3.0, 2.0, 1.0]\n",
    "    >>> np.power(x1, x2)\n",
    "    array([  0.,   1.,   8.,  27.,  16.,   5.])\n",
    "\n",
    "    The effect of broadcasting.\n",
    "\n",
    "    >>> x2 = np.array([[1, 2, 3, 3, 2, 1], [1, 2, 3, 3, 2, 1]])\n",
    "    >>> x2\n",
    "    array([[1, 2, 3, 3, 2, 1],\n",
    "           [1, 2, 3, 3, 2, 1]])\n",
    "    >>> np.power(x1, x2)\n",
    "    array([[ 0,  1,  8, 27, 16,  5],\n",
    "           [ 0,  1,  8, 27, 16,  5]])\n",
    "       \n",
    "    \"\"\"\n",
    "    return x**y"
   ]
  },
  {
   "cell_type": "code",
   "execution_count": 27,
   "metadata": {},
   "outputs": [
    {
     "data": {
      "text/plain": [
       "'\\n    power(x1, x2[, out])\\n\\n    First array elements raised to powers from second array, element-wise.\\n\\n    Raise each base in `x1` to the positionally-corresponding power in\\n    `x2`.  `x1` and `x2` must be broadcastable to the same shape. Note that an\\n    integer type raised to a negative integer power will raise a ValueError.\\n\\n    Parameters\\n    ----------\\n    x1 : array_like\\n        The bases.\\n    x2 : array_like\\n        The exponents.\\n\\n    Returns\\n    -------\\n    y : ndarray\\n        The bases in `x1` raised to the exponents in `x2`.\\n\\n    See Also\\n    --------\\n    float_power : power function that promotes integers to float\\n    \\n    \\n    Examples\\n    --------\\n    Cube each element in a list.\\n\\n    >>> x1 = range(6)\\n    >>> x1\\n    [0, 1, 2, 3, 4, 5]\\n    >>> np.power(x1, 3)\\n    array([  0,   1,   8,  27,  64, 125])\\n\\n    Raise the bases to different exponents.\\n\\n    >>> x2 = [1.0, 2.0, 3.0, 3.0, 2.0, 1.0]\\n    >>> np.power(x1, x2)\\n    array([  0.,   1.,   8.,  27.,  16.,   5.])\\n\\n    The effect of broadcasting.\\n\\n    >>> x2 = np.array([[1, 2, 3, 3, 2, 1], [1, 2, 3, 3, 2, 1]])\\n    >>> x2\\n    array([[1, 2, 3, 3, 2, 1],\\n           [1, 2, 3, 3, 2, 1]])\\n    >>> np.power(x1, x2)\\n    array([[ 0,  1,  8, 27, 16,  5],\\n           [ 0,  1,  8, 27, 16,  5]])\\n       \\n    '"
      ]
     },
     "execution_count": 27,
     "metadata": {},
     "output_type": "execute_result"
    }
   ],
   "source": [
    "# Acceso a la documentación\n",
    "potencia.__doc__"
   ]
  },
  {
   "cell_type": "code",
   "execution_count": 28,
   "metadata": {},
   "outputs": [
    {
     "name": "stdout",
     "output_type": "stream",
     "text": [
      "Help on function potencia in module __main__:\n",
      "\n",
      "potencia(x, y)\n",
      "    power(x1, x2[, out])\n",
      "    \n",
      "    First array elements raised to powers from second array, element-wise.\n",
      "    \n",
      "    Raise each base in `x1` to the positionally-corresponding power in\n",
      "    `x2`.  `x1` and `x2` must be broadcastable to the same shape. Note that an\n",
      "    integer type raised to a negative integer power will raise a ValueError.\n",
      "    \n",
      "    Parameters\n",
      "    ----------\n",
      "    x1 : array_like\n",
      "        The bases.\n",
      "    x2 : array_like\n",
      "        The exponents.\n",
      "    \n",
      "    Returns\n",
      "    -------\n",
      "    y : ndarray\n",
      "        The bases in `x1` raised to the exponents in `x2`.\n",
      "    \n",
      "    See Also\n",
      "    --------\n",
      "    float_power : power function that promotes integers to float\n",
      "    \n",
      "    \n",
      "    Examples\n",
      "    --------\n",
      "    Cube each element in a list.\n",
      "    \n",
      "    >>> x1 = range(6)\n",
      "    >>> x1\n",
      "    [0, 1, 2, 3, 4, 5]\n",
      "    >>> np.power(x1, 3)\n",
      "    array([  0,   1,   8,  27,  64, 125])\n",
      "    \n",
      "    Raise the bases to different exponents.\n",
      "    \n",
      "    >>> x2 = [1.0, 2.0, 3.0, 3.0, 2.0, 1.0]\n",
      "    >>> np.power(x1, x2)\n",
      "    array([  0.,   1.,   8.,  27.,  16.,   5.])\n",
      "    \n",
      "    The effect of broadcasting.\n",
      "    \n",
      "    >>> x2 = np.array([[1, 2, 3, 3, 2, 1], [1, 2, 3, 3, 2, 1]])\n",
      "    >>> x2\n",
      "    array([[1, 2, 3, 3, 2, 1],\n",
      "           [1, 2, 3, 3, 2, 1]])\n",
      "    >>> np.power(x1, x2)\n",
      "    array([[ 0,  1,  8, 27, 16,  5],\n",
      "           [ 0,  1,  8, 27, 16,  5]])\n",
      "\n"
     ]
    }
   ],
   "source": [
    "# Acceso a la documentación\n",
    "help(potencia)"
   ]
  },
  {
   "cell_type": "markdown",
   "metadata": {},
   "source": [
    "### Tipos de Docstring\n",
    "Existen varias formas de documentar tus funciones, las principales encontradas en la literatura son:\n",
    "  * [Google docstrings](https://github.com/google/styleguide/blob/gh-pages/pyguide.md#38-comments-and-docstrings):Google’s recommended form of documentation.\n",
    "  * [reStructured Text](http://docutils.sourceforge.net/rst.html):Official Python documentation standard; Not beginner friendly but feature rich.\n",
    "  * [NumPy/SciPy docstrings](https://numpydoc.readthedocs.io/en/latest/format.html):NumPy’s combination of reStructured and Google Docstrings.\n",
    "  * [Epytext](http://epydoc.sourceforge.net/epytext.html)A Python adaptation of Epydoc; Great for Java developer.\""
   ]
  },
  {
   "cell_type": "markdown",
   "metadata": {},
   "source": [
    "<a id='c2'></a>\n",
    "## II.- Zen de python\n",
    "\n",
    "<img src=\"images/zen.jpg\" width=\"480\" height=\"240\" align=\"center\"/>\n",
    "\n",
    "El **Zen** de Python te dará la guía para decidir sobre que hacer con tu código, no te dice como lo debes escribir, sino como debes pensar si estas programando en Python.\n",
    "\n",
    "Principios importantes:\n",
    "\n",
    "* **Explícito es mejor que implícito**: Que no se asuma nada, asegúrate que las cosas sean.\n",
    "* **Simple es mejor que complejo**: Evita código complejo, código espagueti o que hace mas cosas para poder hacer una simple tarea.\n",
    "* **Plano es mejor que anidado**: Si tu código tiene mas de 3 niveles de identación, deberías mover parte de ese código a una función.\n",
    "* **Los errores nunca deberían pasar silenciosamente**: No uses un Try/Except sin definir que tipo de error vas a cachar, viene de la mano con Explicito es mejor que implícito.\n",
    "* **Si la implementación es difícil de explicar, es mala idea**.\n"
   ]
  },
  {
   "cell_type": "markdown",
   "metadata": {},
   "source": [
    "También, podemos ver el mensaje original del zen de python, ejecutando la siguiente linea de comando."
   ]
  },
  {
   "cell_type": "code",
   "execution_count": 29,
   "metadata": {},
   "outputs": [
    {
     "name": "stdout",
     "output_type": "stream",
     "text": [
      "The Zen of Python, by Tim Peters\n",
      "\n",
      "Beautiful is better than ugly.\n",
      "Explicit is better than implicit.\n",
      "Simple is better than complex.\n",
      "Complex is better than complicated.\n",
      "Flat is better than nested.\n",
      "Sparse is better than dense.\n",
      "Readability counts.\n",
      "Special cases aren't special enough to break the rules.\n",
      "Although practicality beats purity.\n",
      "Errors should never pass silently.\n",
      "Unless explicitly silenced.\n",
      "In the face of ambiguity, refuse the temptation to guess.\n",
      "There should be one-- and preferably only one --obvious way to do it.\n",
      "Although that way may not be obvious at first unless you're Dutch.\n",
      "Now is better than never.\n",
      "Although never is often better than *right* now.\n",
      "If the implementation is hard to explain, it's a bad idea.\n",
      "If the implementation is easy to explain, it may be a good idea.\n",
      "Namespaces are one honking great idea -- let's do more of those!\n"
     ]
    }
   ],
   "source": [
    "import this"
   ]
  },
  {
   "cell_type": "markdown",
   "metadata": {},
   "source": [
    "## Referencia\n",
    "\n",
    "1. [clean-code-python](https://github.com/zedr/clean-code-python)\n",
    "1. [Documenting Python Code: A Complete Guide](https://realpython.com/documenting-python-code/)\n"
   ]
  }
 ],
 "metadata": {
  "kernelspec": {
   "display_name": "Python 3",
   "language": "python",
   "name": "python3"
  },
  "language_info": {
   "codemirror_mode": {
    "name": "ipython",
    "version": 3
   },
   "file_extension": ".py",
   "mimetype": "text/x-python",
   "name": "python",
   "nbconvert_exporter": "python",
   "pygments_lexer": "ipython3",
   "version": "3.7.6"
  }
 },
 "nbformat": 4,
 "nbformat_minor": 4
}
