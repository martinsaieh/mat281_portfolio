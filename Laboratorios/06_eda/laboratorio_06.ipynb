{
 "cells": [
  {
   "cell_type": "markdown",
   "metadata": {},
   "source": [
    "<img src=\"images/usm.jpg\" width=\"480\" height=\"240\" align=\"left\"/>"
   ]
  },
  {
   "cell_type": "markdown",
   "metadata": {},
   "source": [
    "# MAT281 - Laboratorio N°06\n",
    "\n",
    "## Objetivos de la clase\n",
    "\n",
    "* Reforzar los conceptos básicos del E.D.A.."
   ]
  },
  {
   "cell_type": "markdown",
   "metadata": {},
   "source": [
    "## Contenidos\n",
    "\n",
    "* [Problema 01](#p1)\n"
   ]
  },
  {
   "cell_type": "markdown",
   "metadata": {},
   "source": [
    "## Problema 01\n",
    "<img src=\"./images/logo_iris.jpg\" width=\"360\" height=\"360\" align=\"center\"/>"
   ]
  },
  {
   "cell_type": "markdown",
   "metadata": {},
   "source": [
    "El **Iris dataset** es un conjunto de datos que contine una  muestras de tres especies de Iris (Iris setosa, Iris virginica e Iris versicolor). Se midió cuatro rasgos de cada muestra: el largo y ancho del sépalo y pétalo, en centímetros.\n",
    "\n",
    "Lo primero es cargar el conjunto de datos y ver las primeras filas que lo componen:"
   ]
  },
  {
   "cell_type": "code",
   "execution_count": 16,
   "metadata": {},
   "outputs": [],
   "source": [
    "# librerias\n",
    " \n",
    "import os\n",
    "import numpy as np\n",
    "import pandas as pd\n",
    "\n",
    "import matplotlib.pyplot as plt\n",
    "import seaborn as sns \n",
    "pd.set_option('display.max_columns', 500)  # Ver más columnas de los dataframes\n",
    "\n",
    "\n",
    "# Ver gráficos de matplotlib en jupyter notebook/lab\n",
    "%matplotlib inline"
   ]
  },
  {
   "cell_type": "code",
   "execution_count": 99,
   "metadata": {},
   "outputs": [
    {
     "data": {
      "text/html": [
       "<div>\n",
       "<style scoped>\n",
       "    .dataframe tbody tr th:only-of-type {\n",
       "        vertical-align: middle;\n",
       "    }\n",
       "\n",
       "    .dataframe tbody tr th {\n",
       "        vertical-align: top;\n",
       "    }\n",
       "\n",
       "    .dataframe thead th {\n",
       "        text-align: right;\n",
       "    }\n",
       "</style>\n",
       "<table border=\"1\" class=\"dataframe\">\n",
       "  <thead>\n",
       "    <tr style=\"text-align: right;\">\n",
       "      <th></th>\n",
       "      <th>sepalLength</th>\n",
       "      <th>sepalWidth</th>\n",
       "      <th>petalLength</th>\n",
       "      <th>petalWidth</th>\n",
       "      <th>species</th>\n",
       "    </tr>\n",
       "  </thead>\n",
       "  <tbody>\n",
       "    <tr>\n",
       "      <th>0</th>\n",
       "      <td>4.4</td>\n",
       "      <td>3.2</td>\n",
       "      <td>1.3</td>\n",
       "      <td>3.0</td>\n",
       "      <td>setosa</td>\n",
       "    </tr>\n",
       "    <tr>\n",
       "      <th>1</th>\n",
       "      <td>7.2</td>\n",
       "      <td>3.6</td>\n",
       "      <td>6.1</td>\n",
       "      <td>2.5</td>\n",
       "      <td>virginica</td>\n",
       "    </tr>\n",
       "    <tr>\n",
       "      <th>2</th>\n",
       "      <td>6.3</td>\n",
       "      <td>3.3</td>\n",
       "      <td>6.0</td>\n",
       "      <td>2.5</td>\n",
       "      <td>VIRGINICA</td>\n",
       "    </tr>\n",
       "    <tr>\n",
       "      <th>3</th>\n",
       "      <td>6.7</td>\n",
       "      <td>3.3</td>\n",
       "      <td>5.7</td>\n",
       "      <td>2.5</td>\n",
       "      <td>virginica</td>\n",
       "    </tr>\n",
       "    <tr>\n",
       "      <th>4</th>\n",
       "      <td>6.3</td>\n",
       "      <td>3.4</td>\n",
       "      <td>5.6</td>\n",
       "      <td>2.4</td>\n",
       "      <td>virginica</td>\n",
       "    </tr>\n",
       "  </tbody>\n",
       "</table>\n",
       "</div>"
      ],
      "text/plain": [
       "   sepalLength  sepalWidth  petalLength  petalWidth     species\n",
       "0          4.4         3.2          1.3         3.0      setosa\n",
       "1          7.2         3.6          6.1         2.5   virginica\n",
       "2          6.3         3.3          6.0         2.5   VIRGINICA\n",
       "3          6.7         3.3          5.7         2.5   virginica\n",
       "4          6.3         3.4          5.6         2.4   virginica"
      ]
     },
     "execution_count": 99,
     "metadata": {},
     "output_type": "execute_result"
    }
   ],
   "source": [
    "# cargar datos\n",
    "df = pd.read_csv(os.path.join(\"data\",\"iris_contaminados.csv\"))\n",
    "df.columns = ['sepalLength',\n",
    "                  'sepalWidth',\n",
    "                  'petalLength',\n",
    "                  'petalWidth',\n",
    "                  'species']\n",
    "\n",
    "df.head() "
   ]
  },
  {
   "cell_type": "markdown",
   "metadata": {},
   "source": [
    "### Bases del experimento\n",
    "\n",
    "Lo primero es identificar las variables que influyen en el estudio y la naturaleza de esta.\n",
    "\n",
    "* **species**: \n",
    "    * Descripción: Nombre de la especie de Iris. \n",
    "    * Tipo de dato: *string*\n",
    "    * Limitantes: solo existen tres tipos (setosa, virginia y versicolor).\n",
    "* **sepalLength**: \n",
    "    * Descripción: largo del sépalo. \n",
    "    * Tipo de dato: *integer*. \n",
    "    * Limitantes: los valores se encuentran entre 4.0 y 7.0 cm.\n",
    "* **sepalWidth**: \n",
    "    * Descripción: ancho del sépalo. \n",
    "    * Tipo de dato: *integer*. \n",
    "    * Limitantes: los valores se encuentran entre 2.0 y 4.5 cm.\n",
    "* **petalLength**: \n",
    "    * Descripción: largo del pétalo. \n",
    "    * Tipo de dato: *integer*. \n",
    "    * Limitantes: los valores se encuentran entre 1.0 y 7.0 cm.\n",
    "* **petalWidth**: \n",
    "    * Descripción: ancho del pépalo. \n",
    "    * Tipo de dato: *integer*. \n",
    "    * Limitantes: los valores se encuentran entre 0.1 y 2.5 cm."
   ]
  },
  {
   "cell_type": "markdown",
   "metadata": {},
   "source": [
    "Su objetivo es realizar un correcto **E.D.A.**, para esto debe seguir las siguientes intrucciones:"
   ]
  },
  {
   "cell_type": "markdown",
   "metadata": {},
   "source": [
    "1. Realizar un conteo de elementos de la columna **species** y corregir según su criterio. Reemplace por \"default\" los valores nan.."
   ]
  },
  {
   "cell_type": "code",
   "execution_count": 100,
   "metadata": {},
   "outputs": [
    {
     "name": "stdout",
     "output_type": "stream",
     "text": [
      "['setosa' ' virginica' 'VIRGINICA' 'virginica' 'virginica ' 'versicolor'\n",
      " 'Versicolor' 'VERSICOLOR' nan 'Setosa' 'SETOSA']\n",
      "11\n"
     ]
    }
   ],
   "source": [
    "especies_registradas = df['species'].unique()\n",
    "print(especies_registradas)\n",
    "print(len(especies_registradas))"
   ]
  },
  {
   "cell_type": "code",
   "execution_count": 112,
   "metadata": {},
   "outputs": [
    {
     "data": {
      "text/html": [
       "<div>\n",
       "<style scoped>\n",
       "    .dataframe tbody tr th:only-of-type {\n",
       "        vertical-align: middle;\n",
       "    }\n",
       "\n",
       "    .dataframe tbody tr th {\n",
       "        vertical-align: top;\n",
       "    }\n",
       "\n",
       "    .dataframe thead th {\n",
       "        text-align: right;\n",
       "    }\n",
       "</style>\n",
       "<table border=\"1\" class=\"dataframe\">\n",
       "  <thead>\n",
       "    <tr style=\"text-align: right;\">\n",
       "      <th></th>\n",
       "      <th>sepalLength</th>\n",
       "      <th>sepalWidth</th>\n",
       "      <th>petalLength</th>\n",
       "      <th>petalWidth</th>\n",
       "    </tr>\n",
       "    <tr>\n",
       "      <th>species</th>\n",
       "      <th></th>\n",
       "      <th></th>\n",
       "      <th></th>\n",
       "      <th></th>\n",
       "    </tr>\n",
       "  </thead>\n",
       "  <tbody>\n",
       "    <tr>\n",
       "      <th>default</th>\n",
       "      <td>1</td>\n",
       "      <td>1</td>\n",
       "      <td>1</td>\n",
       "      <td>1</td>\n",
       "    </tr>\n",
       "    <tr>\n",
       "      <th>setosa</th>\n",
       "      <td>50</td>\n",
       "      <td>50</td>\n",
       "      <td>50</td>\n",
       "      <td>50</td>\n",
       "    </tr>\n",
       "    <tr>\n",
       "      <th>versicolor</th>\n",
       "      <td>49</td>\n",
       "      <td>49</td>\n",
       "      <td>49</td>\n",
       "      <td>49</td>\n",
       "    </tr>\n",
       "    <tr>\n",
       "      <th>virginica</th>\n",
       "      <td>50</td>\n",
       "      <td>50</td>\n",
       "      <td>50</td>\n",
       "      <td>50</td>\n",
       "    </tr>\n",
       "  </tbody>\n",
       "</table>\n",
       "</div>"
      ],
      "text/plain": [
       "            sepalLength  sepalWidth  petalLength  petalWidth\n",
       "species                                                     \n",
       "default               1           1            1           1\n",
       "setosa               50          50           50          50\n",
       "versicolor           49          49           49          49\n",
       "virginica            50          50           50          50"
      ]
     },
     "execution_count": 112,
     "metadata": {},
     "output_type": "execute_result"
    }
   ],
   "source": [
    "#Se deben arreglar datos mal ingresados, ya que solo existen 3 especies\n",
    "df['species'] = df['species'].str.lower().str.strip()  #pasamos datos a minusculas y eliminamos espacios\n",
    "df['species'] = df['species'].fillna('default')\n",
    "especies_registradas = df['species'].unique()\n",
    "\n",
    "df.groupby('species').count()"
   ]
  },
  {
   "cell_type": "markdown",
   "metadata": {},
   "source": [
    "2. Realizar un gráfico de box-plot sobre el largo y ancho de los petalos y sépalos. Reemplace por **0** los valores nan."
   ]
  },
  {
   "cell_type": "code",
   "execution_count": 102,
   "metadata": {},
   "outputs": [
    {
     "name": "stdout",
     "output_type": "stream",
     "text": [
      "AxesSubplot(0.125,0.125;0.775x0.755)\n"
     ]
    },
    {
     "data": {
      "image/png": "[encoded data removed]",
      "text/plain": [
       "<Figure size 432x288 with 1 Axes>"
      ]
     },
     "metadata": {
      "needs_background": "light"
     },
     "output_type": "display_data"
    }
   ],
   "source": [
    "datos_box = df.drop(['species'], axis = 1)\n",
    "df.loc[df['sepalLength'].isnull(),'sepalLength'] = '0'\n",
    "df.loc[df['sepalWidth'].isnull(),'sepalWidth'] = '0'\n",
    "df.loc[df['petalLength'].isnull(),'petalLength'] = '0'\n",
    "df.loc[df['petalWidth'].isnull(),'petalWidth'] = '0'\n",
    "\n",
    "print(sns.boxplot(data= datos_box))"
   ]
  },
  {
   "cell_type": "markdown",
   "metadata": {},
   "source": [
    "3. Anteriormente se define un rango de valores válidos para los valores del largo y ancho de los petalos y sépalos. Agregue una columna denominada **label**  que identifique cuál de estos valores esta fuera del rango de valores válidos."
   ]
  },
  {
   "cell_type": "code",
   "execution_count": 117,
   "metadata": {},
   "outputs": [
    {
     "name": "stderr",
     "output_type": "stream",
     "text": [
      "C:\\Users\\martin\\anaconda3\\lib\\site-packages\\ipykernel_launcher.py:30: SettingWithCopyWarning: \n",
      "A value is trying to be set on a copy of a slice from a DataFrame\n",
      "\n",
      "See the caveats in the documentation: https://pandas.pydata.org/pandas-docs/stable/user_guide/indexing.html#returning-a-view-versus-a-copy\n",
      "C:\\Users\\martin\\anaconda3\\lib\\site-packages\\ipykernel_launcher.py:28: SettingWithCopyWarning: \n",
      "A value is trying to be set on a copy of a slice from a DataFrame\n",
      "\n",
      "See the caveats in the documentation: https://pandas.pydata.org/pandas-docs/stable/user_guide/indexing.html#returning-a-view-versus-a-copy\n"
     ]
    },
    {
     "data": {
      "text/html": [
       "<div>\n",
       "<style scoped>\n",
       "    .dataframe tbody tr th:only-of-type {\n",
       "        vertical-align: middle;\n",
       "    }\n",
       "\n",
       "    .dataframe tbody tr th {\n",
       "        vertical-align: top;\n",
       "    }\n",
       "\n",
       "    .dataframe thead th {\n",
       "        text-align: right;\n",
       "    }\n",
       "</style>\n",
       "<table border=\"1\" class=\"dataframe\">\n",
       "  <thead>\n",
       "    <tr style=\"text-align: right;\">\n",
       "      <th></th>\n",
       "      <th>sepalLength</th>\n",
       "      <th>sepalWidth</th>\n",
       "      <th>petalLength</th>\n",
       "      <th>petalWidth</th>\n",
       "      <th>species</th>\n",
       "      <th>label</th>\n",
       "    </tr>\n",
       "  </thead>\n",
       "  <tbody>\n",
       "    <tr>\n",
       "      <th>0</th>\n",
       "      <td>4.4</td>\n",
       "      <td>3.2</td>\n",
       "      <td>1.3</td>\n",
       "      <td>3.0</td>\n",
       "      <td>setosa</td>\n",
       "      <td>invalido</td>\n",
       "    </tr>\n",
       "    <tr>\n",
       "      <th>1</th>\n",
       "      <td>7.2</td>\n",
       "      <td>3.6</td>\n",
       "      <td>6.1</td>\n",
       "      <td>2.5</td>\n",
       "      <td>virginica</td>\n",
       "      <td>invalido</td>\n",
       "    </tr>\n",
       "    <tr>\n",
       "      <th>2</th>\n",
       "      <td>6.3</td>\n",
       "      <td>3.3</td>\n",
       "      <td>6.0</td>\n",
       "      <td>2.5</td>\n",
       "      <td>virginica</td>\n",
       "      <td>valido</td>\n",
       "    </tr>\n",
       "    <tr>\n",
       "      <th>3</th>\n",
       "      <td>6.7</td>\n",
       "      <td>3.3</td>\n",
       "      <td>5.7</td>\n",
       "      <td>2.5</td>\n",
       "      <td>virginica</td>\n",
       "      <td>valido</td>\n",
       "    </tr>\n",
       "    <tr>\n",
       "      <th>4</th>\n",
       "      <td>6.3</td>\n",
       "      <td>3.4</td>\n",
       "      <td>5.6</td>\n",
       "      <td>2.4</td>\n",
       "      <td>virginica</td>\n",
       "      <td>valido</td>\n",
       "    </tr>\n",
       "  </tbody>\n",
       "</table>\n",
       "</div>"
      ],
      "text/plain": [
       "   sepalLength  sepalWidth  petalLength  petalWidth    species     label\n",
       "0          4.4         3.2          1.3         3.0     setosa  invalido\n",
       "1          7.2         3.6          6.1         2.5  virginica  invalido\n",
       "2          6.3         3.3          6.0         2.5  virginica    valido\n",
       "3          6.7         3.3          5.7         2.5  virginica    valido\n",
       "4          6.3         3.4          5.6         2.4  virginica    valido"
      ]
     },
     "execution_count": 117,
     "metadata": {},
     "output_type": "execute_result"
    }
   ],
   "source": [
    "df['sepalLength'] = df['sepalLength'].astype(float)\n",
    "df['sepalWidth'] = df['sepalWidth'].astype(float)\n",
    "df['petalLength'] = df['petalLength'].astype(float)\n",
    "df['petalWidth'] = df['petalWidth'].astype(float)\n",
    "#Rango valores sepal length\n",
    "mask_sepalength_sup = df['sepalLength']<=7.0\n",
    "mask_sepalength_inf = df['sepalLength']>=4.0\n",
    "mask_sepallength = mask_sepalength_sup & mask_sepalength_inf\n",
    "#Rango valores sepal width\n",
    "mask_sepalwidth_sup = df['sepalWidth']<=4.5\n",
    "mask_sepalwidth_inf = df['sepalWidth']>=2.0\n",
    "mask_sepalwidth = mask_sepalwidth_sup & mask_sepalwidth_inf\n",
    "#Rango valores petal length\n",
    "mask_petallength_sup = df['petalLength']<=7.0\n",
    "mask_petallength_inf = df['petalLength']>=1.0\n",
    "mask_petallength = mask_petallength_sup & mask_petallength_inf\n",
    "#Rango valores petal width\n",
    "mask_petalwidth_sup = df['petalWidth']<=2.5\n",
    "mask_petalwidth_inf = df['petalWidth']>=0.1\n",
    "mask_petalwidth = mask_petalwidth_sup & mask_petalwidth_inf\n",
    "\n",
    "mask = mask_petallength & mask_petalwidth & mask_sepallength & mask_sepalwidth\n",
    "\n",
    "df_valido = df[mask]\n",
    "df['label'] = ''\n",
    "\n",
    "for i in df.index:\n",
    "    if i in df_valido.index:\n",
    "        df['label'][i]='valido'\n",
    "    else:\n",
    "        df['label'][i]='invalido'\n",
    "df.head()"
   ]
  },
  {
   "cell_type": "markdown",
   "metadata": {},
   "source": [
    "4. Realice un gráfico de *sepalLength* vs *petalLength* y otro de *sepalWidth* vs *petalWidth* categorizados por la etiqueta **label**. Concluya sus resultados."
   ]
  },
  {
   "cell_type": "code",
   "execution_count": 122,
   "metadata": {},
   "outputs": [
    {
     "data": {
      "text/plain": [
       "<matplotlib.axes._subplots.AxesSubplot at 0x2be7c5632c8>"
      ]
     },
     "execution_count": 122,
     "metadata": {},
     "output_type": "execute_result"
    },
    {
     "data": {
      "image/png": "[encoded data removed]",
      "text/plain": [
       "<Figure size 432x288 with 1 Axes>"
      ]
     },
     "metadata": {
      "needs_background": "light"
     },
     "output_type": "display_data"
    }
   ],
   "source": [
    "sns.lineplot(\n",
    "    x = 'sepalLength',\n",
    "    y = 'petalLength',\n",
    "    hue = 'label',\n",
    "    data = df,\n",
    "    ci = None\n",
    "    )"
   ]
  },
  {
   "cell_type": "code",
   "execution_count": 121,
   "metadata": {},
   "outputs": [
    {
     "data": {
      "text/plain": [
       "<matplotlib.axes._subplots.AxesSubplot at 0x2be7c471b48>"
      ]
     },
     "execution_count": 121,
     "metadata": {},
     "output_type": "execute_result"
    },
    {
     "data": {
      "image/png": "[encoded data removed]",
      "text/plain": [
       "<Figure size 432x288 with 1 Axes>"
      ]
     },
     "metadata": {
      "needs_background": "light"
     },
     "output_type": "display_data"
    }
   ],
   "source": [
    "sns.lineplot(\n",
    "    x = 'sepalWidth',\n",
    "    y = 'petalWidth',\n",
    "    hue = 'label',\n",
    "    data = df,\n",
    "    ci = None\n",
    "    )"
   ]
  },
  {
   "cell_type": "markdown",
   "metadata": {},
   "source": [
    "5. Filtre los datos válidos y realice un gráfico de *sepalLength* vs *petalLength* categorizados por la etiqueta **species**."
   ]
  },
  {
   "cell_type": "code",
   "execution_count": 120,
   "metadata": {},
   "outputs": [
    {
     "data": {
      "text/plain": [
       "<matplotlib.axes._subplots.AxesSubplot at 0x2be7c2312c8>"
      ]
     },
     "execution_count": 120,
     "metadata": {},
     "output_type": "execute_result"
    },
    {
     "data": {
      "image/png": "[encoded data removed]",
      "text/plain": [
       "<Figure size 432x288 with 1 Axes>"
      ]
     },
     "metadata": {
      "needs_background": "light"
     },
     "output_type": "display_data"
    }
   ],
   "source": [
    "sns.lineplot(\n",
    "    x = 'sepalLength',\n",
    "    y = 'petalLength',\n",
    "    hue = 'species',\n",
    "    data = df_valido,\n",
    "    ci = None\n",
    "    )"
   ]
  },
  {
   "cell_type": "code",
   "execution_count": null,
   "metadata": {},
   "outputs": [],
   "source": []
  }
 ],
 "metadata": {
  "kernelspec": {
   "display_name": "Python 3",
   "language": "python",
   "name": "python3"
  },
  "language_info": {
   "codemirror_mode": {
    "name": "ipython",
    "version": 3
   },
   "file_extension": ".py",
   "mimetype": "text/x-python",
   "name": "python",
   "nbconvert_exporter": "python",
   "pygments_lexer": "ipython3",
   "version": "3.7.6"
  }
 },
 "nbformat": 4,
 "nbformat_minor": 4
}
