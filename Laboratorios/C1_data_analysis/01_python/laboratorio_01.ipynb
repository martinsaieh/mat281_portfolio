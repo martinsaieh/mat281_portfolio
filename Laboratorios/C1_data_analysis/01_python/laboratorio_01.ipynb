{
 "cells": [
  {
   "cell_type": "markdown",
   "metadata": {},
   "source": [
    "<img src=\"images/usm.jpg\" width=\"480\" height=\"240\" align=\"left\"/>"
   ]
  },
  {
   "cell_type": "markdown",
   "metadata": {},
   "source": [
    "# MAT281 - Laboratorio N°01\n",
    "\n",
    "## Objetivos de la clase\n",
    "\n",
    "* Reforzar los conceptos básicos de python."
   ]
  },
  {
   "cell_type": "markdown",
   "metadata": {},
   "source": [
    "## Contenidos\n",
    "\n",
    "* [Problema 01](#p1)\n",
    "* [Problema 02](#p2)\n",
    "* [Problema 03](#p3)\n",
    "* [Problema 04](#p4)\n"
   ]
  },
  {
   "cell_type": "markdown",
   "metadata": {},
   "source": [
    "<a id='p1'></a>\n",
    "\n",
    "## Problema 01\n",
    "\n",
    "### a) Calcular el número $\\pi$\n",
    "\n",
    "En los siglos XVII y XVIII, James Gregory y Gottfried Leibniz descubrieron una serie infinita que sirve para calcular $\\pi$:\n",
    "\n",
    "$$\\pi = 4 \\sum_{k=1}^{\\infty}\\dfrac{(-1)^{k+1}}{2k-1} = 4(1-\\dfrac{1}{3}+\\dfrac{1}{5}-\\dfrac{1}{7} + ...) $$\n",
    "\n",
    "Desarolle un programa para estimar el valor de $\\pi$ ocupando el método de Leibniz, donde la entrada del programa debe ser un número entero $n$ que indique cuántos términos de la suma se utilizará.\n",
    "\n",
    "\n",
    "* **Ejemplo**: *calcular_pi(3)* = 3.466666666666667, *calcular_pi(1000)* = 3.140592653839794\n"
   ]
  },
  {
   "cell_type": "code",
   "execution_count": 7,
   "metadata": {},
   "outputs": [],
   "source": [
    "def calcular_pi(n:int)->float:\n",
    "    \n",
    "    \"\"\"\n",
    "    calcular_pi(n)\n",
    "\n",
    "    Aproximacion del valor de pi mediante el método de Leibniz\n",
    "\n",
    "    Parameters\n",
    "    ----------\n",
    "    n : int\n",
    "        Numero de terminos.\n",
    "\n",
    "    Returns\n",
    "    -------\n",
    "    output : float\n",
    "        Valor aproximado de pi.\n",
    "        \n",
    "    Examples\n",
    "    --------\n",
    "    >>> calcular_pi(3)\n",
    "    3.466666666666667\n",
    "    \n",
    "    >>> calcular_pi(1000) \n",
    "    3.140592653839794\n",
    "    \"\"\"\n",
    "    \n",
    "    pi = 0 # valor incial \n",
    "    for k in range(1,n+1):\n",
    "        numerador = (-1)**(k+1) # numerador de la iteracion i\n",
    "        denominador = 2*k-1  # denominador de la iteracion i\n",
    "        pi+=numerador/denominador # suma hasta el i-esimo termino\n",
    "    \n",
    "    return 4*pi"
   ]
  },
  {
   "cell_type": "code",
   "execution_count": 8,
   "metadata": {},
   "outputs": [
    {
     "name": "stdout",
     "output_type": "stream",
     "text": [
      "Help on function calcular_pi in module __main__:\n",
      "\n",
      "calcular_pi(n: int) -> float\n",
      "    calcular_pi(n)\n",
      "    \n",
      "    Aproximacion del valor de pi mediante el método de Leibniz\n",
      "    \n",
      "    Parameters\n",
      "    ----------\n",
      "    n : int\n",
      "        Numero de terminos.\n",
      "    \n",
      "    Returns\n",
      "    -------\n",
      "    output : float\n",
      "        Valor aproximado de pi.\n",
      "        \n",
      "    Examples\n",
      "    --------\n",
      "    >>> calcular_pi(3)\n",
      "    3.466666666666667\n",
      "    \n",
      "    >>> calcular_pi(1000) \n",
      "    3.140592653839794\n",
      "\n"
     ]
    }
   ],
   "source": [
    "# Acceso a la documentación\n",
    "help(calcular_pi)"
   ]
  },
  {
   "cell_type": "code",
   "execution_count": 9,
   "metadata": {},
   "outputs": [
    {
     "data": {
      "text/plain": [
       "3.466666666666667"
      ]
     },
     "execution_count": 9,
     "metadata": {},
     "output_type": "execute_result"
    }
   ],
   "source": [
    "# ejemplo 01\n",
    "calcular_pi(3)"
   ]
  },
  {
   "cell_type": "code",
   "execution_count": 10,
   "metadata": {},
   "outputs": [
    {
     "data": {
      "text/plain": [
       "3.140592653839794"
      ]
     },
     "execution_count": 10,
     "metadata": {},
     "output_type": "execute_result"
    }
   ],
   "source": [
    "# ejemplo 02\n",
    "calcular_pi(1000) "
   ]
  },
  {
   "cell_type": "markdown",
   "metadata": {},
   "source": [
    "**Observación**:\n",
    "\n",
    "* Note que si corre la línea de comando `calcular_pi(3.0)` le mandará un error ... ¿ por qué ?\n",
    "* En los laboratorio, no se pide ser tan meticuloso con la documentacion.\n",
    "* Lo primero es definir el código, correr los ejemplos  y  luego documentar correctamente."
   ]
  },
  {
   "cell_type": "markdown",
   "metadata": {},
   "source": [
    "### b) Calcular el número $e$\n",
    "\n",
    "Euler realizó varios aportes en relación a $e$, pero no fue hasta 1748 cuando publicó su **Introductio in analysin infinitorum** que dio un tratamiento definitivo a las ideas sobre $e$. Allí mostró que:\n",
    "\n",
    "\n",
    "En los siglos XVII y XVIII, James Gregory y Gottfried Leibniz descubrieron una serie infinita que sirve para calcular π:\n",
    "\n",
    "$$e = \\sum_{k=0}^{\\infty}\\dfrac{1}{k!} = 1+\\dfrac{1}{2!}+\\dfrac{1}{3!}+\\dfrac{1}{4!} + ... $$\n",
    "\n",
    "Desarolle un programa para estimar el valor de $e$ ocupando el método de Euler, donde la entrada del programa debe ser un número entero $n$ que indique cuántos términos de la suma se utilizará.\n",
    "\n",
    "\n",
    "* **Ejemplo**: *calcular_e(3)* =2.5, *calcular_e(1000)* = 2.7182818284590455"
   ]
  },
  {
   "cell_type": "code",
   "execution_count": 11,
   "metadata": {},
   "outputs": [
    {
     "name": "stdout",
     "output_type": "stream",
     "text": [
      "calcular_e(3) = 2.6666666666666665\n"
     ]
    },
    {
     "ename": "NameError",
     "evalue": "name 'calcular_euler' is not defined",
     "output_type": "error",
     "traceback": [
      "\u001b[1;31m---------------------------------------------------------------------------\u001b[0m",
      "\u001b[1;31mNameError\u001b[0m                                 Traceback (most recent call last)",
      "\u001b[1;32m<ipython-input-11-86a439a31d3f>\u001b[0m in \u001b[0;36m<module>\u001b[1;34m\u001b[0m\n\u001b[0;32m      9\u001b[0m \u001b[0mprint\u001b[0m\u001b[1;33m(\u001b[0m\u001b[1;34m\"calcular_e(3) = \"\u001b[0m \u001b[1;33m+\u001b[0m \u001b[0mstr\u001b[0m\u001b[1;33m(\u001b[0m\u001b[0mcalcular_e\u001b[0m\u001b[1;33m(\u001b[0m\u001b[1;36m3\u001b[0m\u001b[1;33m)\u001b[0m\u001b[1;33m)\u001b[0m\u001b[1;33m)\u001b[0m\u001b[1;33m\u001b[0m\u001b[1;33m\u001b[0m\u001b[0m\n\u001b[0;32m     10\u001b[0m \u001b[1;31m#ejemplo 2\u001b[0m\u001b[1;33m\u001b[0m\u001b[1;33m\u001b[0m\u001b[1;33m\u001b[0m\u001b[0m\n\u001b[1;32m---> 11\u001b[1;33m \u001b[0mprint\u001b[0m\u001b[1;33m(\u001b[0m\u001b[1;34m\"calcular_e(1000) = \"\u001b[0m \u001b[1;33m+\u001b[0m \u001b[0mstr\u001b[0m\u001b[1;33m(\u001b[0m\u001b[0mcalcular_euler\u001b[0m\u001b[1;33m(\u001b[0m\u001b[1;36m1000\u001b[0m\u001b[1;33m)\u001b[0m\u001b[1;33m)\u001b[0m\u001b[1;33m)\u001b[0m\u001b[1;33m\u001b[0m\u001b[1;33m\u001b[0m\u001b[0m\n\u001b[0m",
      "\u001b[1;31mNameError\u001b[0m: name 'calcular_euler' is not defined"
     ]
    }
   ],
   "source": [
    "def calcular_e(n):\n",
    "    denominador = 1 #valor inicial\n",
    "    euler = 1 #valor inicial\n",
    "    for k in range(1, n+1):\n",
    "        denominador *= k #factorial que va en el denominador\n",
    "        euler += 1 / denominador #calculo euler hasta i-esimo termino\n",
    "    return euler\n",
    "#ejemplo 1\n",
    "print(\"calcular_e(3) = \" + str(calcular_e(3)))\n",
    "#ejemplo 2\n",
    "print(\"calcular_e(1000) = \" + str(calcular_euler(1000)))"
   ]
  },
  {
   "cell_type": "markdown",
   "metadata": {},
   "source": [
    "<a id='p2'></a>\n",
    "\n",
    "## Problema 02\n",
    "\n",
    "\n",
    "Sea $\\sigma(n)$ definido como la suma de los divisores propios de $n$ (números menores que n que se dividen en $n$).\n",
    "\n",
    "Los [números amigos](https://en.wikipedia.org/wiki/Amicable_numbers) son  enteros positivos $n_1$ y $n_2$ tales que la suma de los divisores propios de uno es igual al otro número y viceversa, es decir, $\\sigma(n_1)=\\sigma(n_2)$ y $\\sigma(n_2)=\\sigma(n_1)$.\n",
    "\n",
    "\n",
    "Por ejemplo, los números 220 y 284 son números amigos.\n",
    "* los divisores propios de 220 son 1, 2, 4, 5, 10, 11, 20, 22, 44, 55 y 110; por lo tanto $\\sigma(220) = 284$. \n",
    "* los divisores propios de 284 son 1, 2, 4, 71 y 142; entonces $\\sigma(284) = 220$.\n",
    "\n",
    "\n",
    "Implemente una función llamada `amigos` cuyo input sean dos números naturales $n_1$ y $n_2$, cuyo output sea verifique si los números son amigos o no.\n",
    "\n",
    "* **Ejemplo**: *amigos(220,284)* = True, *amigos(6,5)* = False\n"
   ]
  },
  {
   "cell_type": "code",
   "execution_count": 12,
   "metadata": {},
   "outputs": [
    {
     "name": "stdout",
     "output_type": "stream",
     "text": [
      "amigos(220, 284) = True\n",
      "amigos(6, 5) = False\n"
     ]
    }
   ],
   "source": [
    "def amigos(x, y):\n",
    "    flag = False\n",
    "    sigma_x = [i for i in range(1, x) if x % i == 0] #lista de divisores de x\n",
    "    sigma_y = [j for j in range(1, y) if y % j == 0] #lista de divisores de y\n",
    "    if sum(sigma_x) == y: #verificacion si son amigos\n",
    "        flag = True\n",
    "    if sum(sigma_y) == x: # verificacion si son amigos\n",
    "        flag = True\n",
    "        \n",
    "    return flag\n",
    "#ejemplo 1\n",
    "print(\"amigos(220, 284) = \" + str(amigos(220, 284)))\n",
    "\n",
    "#ejemplo 2\n",
    "print(\"amigos(6, 5) = \" + str(amigos(6,5)))"
   ]
  },
  {
   "cell_type": "markdown",
   "metadata": {},
   "source": [
    "<a id='p3'></a>\n",
    "\n",
    "## Problema 03\n",
    "\n",
    "La [conjetura de Collatz](https://en.wikipedia.org/wiki/Collatz_conjecture), conocida también como conjetura $3n+1$ o conjetura de Ulam (entre otros nombres), fue enunciada por el matemático Lothar Collatz en 1937, y a la fecha no se ha resuelto.\n",
    "\n",
    "Sea la siguiente operación, aplicable a cualquier número entero positivo:\n",
    "* Si el número es par, se divide entre 2.\n",
    "* Si el número es impar, se multiplica por 3 y se suma 1.\n",
    "\n",
    "La conjetura dice que siempre alcanzaremos el 1 (y por tanto el ciclo 4, 2, 1) para cualquier número con el que comencemos. \n",
    "\n",
    "Implemente una función llamada `collatz` cuyo input sea un número natural positivo $N$ y como output devulva la secuencia de números hasta llegar a 1.\n",
    "\n",
    "* **Ejemplo**: *collatz(9)* = [9, 28, 14, 7, 22, 11, 34, 17, 52, 26, 13, 40, 20, 10, 5, 16, 8, 4, 2, 1]"
   ]
  },
  {
   "cell_type": "code",
   "execution_count": 13,
   "metadata": {},
   "outputs": [
    {
     "name": "stdout",
     "output_type": "stream",
     "text": [
      "collatz(9) = [9, 28, 14, 7, 22, 11, 34, 17, 52, 26, 13, 40, 20, 10, 5, 16, 8, 4, 2, 1]\n"
     ]
    }
   ],
   "source": [
    "def collatz(x):\n",
    "    sec = [x] # lista con la secuencia de collatz\n",
    "    while x != 1: # verifico no llegar al 1\n",
    "        if x % 2 == 0:  #verifico si es par\n",
    "            x/=2\n",
    "            sec.append(int(x)) #agrego nuevo valor a la lista\n",
    "        else: #si es impar \n",
    "            x = x*3 + 1\n",
    "            sec.append(int(x)) #agrego nuevo valor a la lista\n",
    "    return sec\n",
    "\n",
    "#ejemplo 1\n",
    "print(\"collatz(9) = \" + str(collatz(9)))"
   ]
  },
  {
   "cell_type": "markdown",
   "metadata": {},
   "source": [
    "<a id='p4'></a>\n",
    "\n",
    "## Problema 04\n",
    "\n",
    "La [conjetura de Goldbach](https://en.wikipedia.org/wiki/Goldbach%27s_conjecture) es uno de los problemas abiertos más antiguos en matemáticas. Concretamente, G.H. Hardy, en 1921, en su famoso discurso pronunciado en la Sociedad Matemática de Copenhague, comentó que probablemente la conjetura de Goldbach no es solo uno de los problemas no resueltos más difíciles de la teoría de números, sino de todas las matemáticas. Su enunciado es el siguiente:\n",
    "\n",
    "$$\\textrm{Todo número par mayor que 2 puede escribirse como suma de dos números primos - Christian Goldbach (1742)}$$\n",
    "\n",
    "Implemente una función llamada `goldbach` cuyo input sea un número natural positivo $N$ y como output devuelva la suma de dos primos ($N1$ y $N2$) tal que: $N1+N2=N$. \n",
    "\n",
    " * **Ejemplo**: goldbash(4) = (2,2), goldbash(6) = (3,3) , goldbash(8) = (3,5)"
   ]
  },
  {
   "cell_type": "code",
   "execution_count": 14,
   "metadata": {},
   "outputs": [
    {
     "name": "stdout",
     "output_type": "stream",
     "text": [
      "goldbash(4) = [(2, 2)]\n",
      "goldbash(6) = [(3, 3)]\n",
      "goldbash(8) = [(5, 3)]\n"
     ]
    }
   ],
   "source": [
    "def primo(x): #funcion para verificar si un numero es primo\n",
    "    if x < 2:\n",
    "        return False\n",
    "    for i in range(2,x):\n",
    "        if x % i == 0:\n",
    "            return False\n",
    "    return True\n",
    "\n",
    "def goldbash(x):\n",
    "    if x <= 2:\n",
    "        return \"La conjetura funciona para numeros mayores que 2, ingrese otro numero\"\n",
    "    \n",
    "    primos_menor_x = [i for i in range(2, x) if primo(i) == True]\n",
    "    \n",
    "    if len(primos_menor_x) % 2 == 0:\n",
    "        a = int(1/2 * (len(primos_menor_x))) #si el largo de la lista es par defino a como la mitad\n",
    "    else:\n",
    "        a = int(1/2 * (len(primos_menor_x)) + 1) #si el largo de la lista es impar feino a como la mitad mas uno\n",
    "        \n",
    "    primos_suma = [ (x-i, i) for i in primos_menor_x[0 : int(a) ] if x-i in primos_menor_x ] #lista que contiene los numeros de\n",
    "                                                                                            #Goldbash, llego hasta la mitad para no\n",
    "                                                                                            #repetir valores\n",
    "    return primos_suma\n",
    "\n",
    "#ejemplo 1\n",
    "print(\"goldbash(4) = \" + str(goldbash(4)))\n",
    "\n",
    "#ejemplo 2\n",
    "print(\"goldbash(6) = \" + str(goldbash(6)))\n",
    "\n",
    "#ejemplo 3\n",
    "print(\"goldbash(8) = \" + str(goldbash(8)))"
   ]
  },
  {
   "cell_type": "code",
   "execution_count": 6,
   "metadata": {},
   "outputs": [
    {
     "name": "stdout",
     "output_type": "stream",
     "text": [
      "0.0\n"
     ]
    }
   ],
   "source": [
    "import numpy as np\n",
    "import time\n",
    "\n",
    "time_start = time.time()\n",
    "s= 5 + 2\n",
    "print((time.time() - time_start))"
   ]
  },
  {
   "cell_type": "code",
   "execution_count": null,
   "metadata": {},
   "outputs": [],
   "source": []
  }
 ],
 "metadata": {
  "kernelspec": {
   "display_name": "Python 3",
   "language": "python",
   "name": "python3"
  },
  "language_info": {
   "codemirror_mode": {
    "name": "ipython",
    "version": 3
   },
   "file_extension": ".py",
   "mimetype": "text/x-python",
   "name": "python",
   "nbconvert_exporter": "python",
   "pygments_lexer": "ipython3",
   "version": "3.7.6"
  }
 },
 "nbformat": 4,
 "nbformat_minor": 4
}
