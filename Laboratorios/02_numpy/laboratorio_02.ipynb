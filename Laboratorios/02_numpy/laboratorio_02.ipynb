{
 "cells": [
  {
   "cell_type": "markdown",
   "metadata": {},
   "source": [
    "<img src=\"images/usm.jpg\" width=\"480\" height=\"240\" align=\"left\"/>"
   ]
  },
  {
   "cell_type": "markdown",
   "metadata": {},
   "source": [
    "# MAT281 - Laboratorio N°02\n",
    "\n",
    "## Objetivos de la clase\n",
    "\n",
    "* Reforzar los conceptos básicos de numpy."
   ]
  },
  {
   "cell_type": "markdown",
   "metadata": {},
   "source": [
    "## Contenidos\n",
    "\n",
    "* [Problema 01](#p1)\n",
    "* [Problema 02](#p2)\n",
    "* [Problema 03](#p3)"
   ]
  },
  {
   "cell_type": "markdown",
   "metadata": {},
   "source": [
    "<a id='p1'></a>\n",
    "\n",
    "## Problema 01\n",
    "\n",
    "Una **media móvil simple** (SMA) es el promedio de los últimos $k$ datos anteriores, es decir, sea $a_1$,$a_2$,...,$a_n$ un arreglo $n$-dimensional, entonces la SMA se define por:\n",
    "\n",
    "$$sma(k) =\\dfrac{1}{k}(a_{n}+a_{n-1}+...+a_{n-(k-1)}) = \\dfrac{1}{k}\\sum_{i=0}^{k-1}a_{n-i}  $$ \n",
    "\n",
    "\n",
    "Por otro lado podemos definir el SMA con una venta móvil de $n$ si el resultado nos retorna la el promedio ponderado avanzando de la siguiente forma:\n",
    "\n",
    "* $a = [1,2,3,4,5]$, la SMA con una ventana de $n=2$ sería:\n",
    "\n",
    "\n",
    "    * sma(2): [mean(1,2),mean(2,3),mean(3,4)] = [1.5, 2.5, 3.5, 4.5]\n",
    "    * sma(3): [mean(1,2,3),mean(2,3,4),mean(3,4,5)] = [2.,3.,4.]\n",
    "\n",
    "\n",
    "Implemente una función llamada `sma` cuyo input sea un arreglo unidimensional $a$ y un entero $n$, y cuyo ouput retorne el valor de la media móvil simple sobre el arreglo de la siguiente forma:\n",
    "\n",
    "* **Ejemplo**: *sma([5,3,8,10,2,1,5,1,0,2], 2)* = $[4. , 5.5, 9. , 6. , 1.5, 3. , 3. , 0.5, 1. ]$\n",
    "\n",
    "En este caso, se esta calculando el SMA para un arreglo con una ventana de $n=2$.\n",
    "\n",
    "**Hint**: utilice la función `numpy.cumsum`"
   ]
  },
  {
   "cell_type": "code",
   "execution_count": 1,
   "metadata": {},
   "outputs": [
    {
     "name": "stdout",
     "output_type": "stream",
     "text": [
      "[]\n"
     ]
    }
   ],
   "source": [
    "import numpy as np\n",
    "def sma(a, n):\n",
    "    a =(np.array(a)).reshape(1, len(a))\n",
    "    sma = np.zeros((1, a.shape[0]-(n-1)))\n",
    "    for i in range(1,sma.shape[1]):\n",
    "        sma[0, i] = (1/n) * np.cumsum(a[:, range(1,n)])\n",
    "    return sma\n",
    "print(sma([5,3,8,10,2,1,5,1,0,2], 2))"
   ]
  },
  {
   "cell_type": "code",
   "execution_count": 2,
   "metadata": {},
   "outputs": [
    {
     "name": "stdout",
     "output_type": "stream",
     "text": [
      "(10,)\n"
     ]
    }
   ],
   "source": [
    "a = [5,3,8,10,2,1,5,1,0,2]\n",
    "a= np.array(a)\n",
    "print(a.shape)"
   ]
  },
  {
   "cell_type": "code",
   "execution_count": 24,
   "metadata": {},
   "outputs": [
    {
     "name": "stdout",
     "output_type": "stream",
     "text": [
      "[[4.17022005e-01 7.20324493e-01 1.14374817e-04 3.02332573e-01\n",
      "  1.46755891e-01 9.23385948e-02 1.86260211e-01 3.45560727e-01]]\n",
      "[0.72032449]\n",
      "[[0.417022   1.1373465  1.13746087]]\n"
     ]
    }
   ],
   "source": [
    "import numpy as np\n",
    "np.random.seed(1)\n",
    "a = np.random.rand(1, 8)\n",
    "print(a)\n",
    "print(a[:, 1])\n",
    "b = np.cumsum(a[:, range(3)], axis = 1)\n",
    "print(b)"
   ]
  },
  {
   "cell_type": "markdown",
   "metadata": {},
   "source": [
    "<a id='p2'></a>\n",
    "\n",
    "## Problema 02\n",
    "\n",
    "La función **strides($a,n,p$)**, corresponde a transformar un arreglo unidimensional $a$ en una matriz de $n$ columnas, en el cual las filas se van construyendo desfasando la posición del arreglo en $p$ pasos hacia adelante.\n",
    "\n",
    "* Para el arreglo unidimensional $a$ = [ 1,  2,  3,  4,  5,  6,  7,  8,  9, 10], la función strides($a,4,2$), corresponde a crear una matriz de $4$ columnas, cuyos desfaces hacia adelante se hacen de dos en dos. \n",
    "\n",
    "El resultado tendría que ser algo así:$$\\begin{pmatrix}\n",
    " 1& 2 &3 &4 \\\\ \n",
    " 3&  4&5&6 \\\\ \n",
    " 5& 6 &7 &8 \\\\ \n",
    " 7& 8 &9 &10 \\\\ \n",
    "\\end{pmatrix}$$\n",
    "\n",
    "\n",
    "Implemente una función llamada `strides(a,4,2)` cuyo input sea un arreglo unidimensional y retorne la matriz de $4$ columnas, cuyos desfaces hacia adelante se hacen de dos en dos. \n",
    "\n",
    "* **Ejemplo**: *strides($a$,4,2)* =$\\begin{pmatrix}\n",
    " 1& 2 &3 &4 \\\\ \n",
    " 3&  4&5&6 \\\\ \n",
    " 5& 6 &7 &8 \\\\ \n",
    " 7& 8 &9 &10 \\\\ \n",
    "\\end{pmatrix}$\n"
   ]
  },
  {
   "cell_type": "code",
   "execution_count": null,
   "metadata": {},
   "outputs": [],
   "source": [
    "def strides(a, n, p):\n",
    "    filas = 0\n",
    "    while j != a.shape[1]:\n",
    "        j += n-p-1\n",
    "        filas+=1\n",
    "    stride = np.zeros(filas, n)\n",
    "    pos = 0\n",
    "    for i in filas:\n",
    "        stride[fila, :] =  a[:, range(pos)]\n",
    "        pos += n-p"
   ]
  },
  {
   "cell_type": "markdown",
   "metadata": {},
   "source": [
    "<a id='p3'></a>\n",
    "\n",
    "## Problema 03\n",
    "\n",
    "\n",
    "Un **cuadrado mágico** es una matriz de tamaño $n \\times n$ de números enteros positivos tal que \n",
    "la suma de los números por columnas, filas y diagonales principales sea la misma. Usualmente, los números empleados para rellenar las casillas son consecutivos, de 1 a $n^2$, siendo $n$ el número de columnas y filas del cuadrado mágico.\n",
    "\n",
    "Si los números son consecutivos de 1 a $n^2$, la suma de los números por columnas, filas y diagonales principales \n",
    "es igual a : $$M_{n} = \\dfrac{n(n^2+1)}{2}$$\n",
    "Por ejemplo, \n",
    "\n",
    "* $A= \\begin{pmatrix}\n",
    " 4& 9 &2 \\\\ \n",
    " 3&  5&7 \\\\ \n",
    " 8& 1 &6 \n",
    "\\end{pmatrix}$,\n",
    "es un cuadrado mágico.\n",
    "\n",
    "* $B= \\begin{pmatrix}\n",
    " 4& 2 &9 \\\\ \n",
    " 3&  5&7 \\\\ \n",
    " 8& 1 &6 \n",
    "\\end{pmatrix}$, no es un cuadrado mágico.\n",
    "\n",
    "Implemente una función llamada `es_cudrado_magico` cuyo input sea una matriz cuadrada de tamaño $n$ con números consecutivos de $1$ a $n^2$ y cuyo ouput retorne *True* si es un cuadrado mágico o 'False', en caso contrario\n",
    "\n",
    "* **Ejemplo**: *es_cudrado_magico($A$)* = True, *es_cudrado_magico($B$)* = False\n",
    "\n",
    "**Hint**: Cree una función que valide la mariz es cuadrada y  que sus números son consecutivos del 1 a $n^2$."
   ]
  }
 ],
 "metadata": {
  "kernelspec": {
   "display_name": "Python 3",
   "language": "python",
   "name": "python3"
  },
  "language_info": {
   "codemirror_mode": {
    "name": "ipython",
    "version": 3
   },
   "file_extension": ".py",
   "mimetype": "text/x-python",
   "name": "python",
   "nbconvert_exporter": "python",
   "pygments_lexer": "ipython3",
   "version": "3.7.6"
  }
 },
 "nbformat": 4,
 "nbformat_minor": 4
}
